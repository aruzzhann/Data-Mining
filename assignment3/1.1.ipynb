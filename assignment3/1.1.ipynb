{
 "cells": [
  {
   "cell_type": "code",
   "execution_count": 1,
   "id": "b6ba864e-9a0d-46cb-a175-124474bd5f06",
   "metadata": {},
   "outputs": [
    {
     "name": "stdout",
     "output_type": "stream",
     "text": [
      "Точность логистической регрессии: 1.0\n",
      "Точность метода ближайших соседей: 1.0\n"
     ]
    }
   ],
   "source": [
    "import numpy as np\n",
    "from sklearn.datasets import load_iris\n",
    "from sklearn.model_selection import train_test_split\n",
    "from sklearn.linear_model import LogisticRegression\n",
    "from sklearn.neighbors import KNeighborsClassifier\n",
    "from sklearn.metrics import accuracy_score\n",
    "\n",
    "\n",
    "data = load_iris()\n",
    "X = data.data  \n",
    "y = data.target  \n",
    "\n",
    "\n",
    "X_train, X_test, y_train, y_test = train_test_split(X, y, test_size=0.2, random_state=42)\n",
    "\n",
    "\n",
    "log_reg = LogisticRegression(max_iter=200)  \n",
    "log_reg.fit(X_train, y_train) \n",
    "y_pred_log = log_reg.predict(X_test)  \n",
    "accuracy_log = accuracy_score(y_test, y_pred_log)  \n",
    "print(\"Точность логистической регрессии:\", accuracy_log)\n",
    "\n",
    "\n",
    "knn = KNeighborsClassifier(n_neighbors=3)  \n",
    "knn.fit(X_train, y_train)  \n",
    "y_pred_knn = knn.predict(X_test)  \n",
    "accuracy_knn = accuracy_score(y_test, y_pred_knn)  \n",
    "print(\"Точность метода ближайших соседей:\", accuracy_knn)\n"
   ]
  },
  {
   "cell_type": "code",
   "execution_count": null,
   "id": "cd48d680-271f-4ef4-86ec-8410b6b9877d",
   "metadata": {},
   "outputs": [],
   "source": []
  }
 ],
 "metadata": {
  "kernelspec": {
   "display_name": "Python 3 (ipykernel)",
   "language": "python",
   "name": "python3"
  },
  "language_info": {
   "codemirror_mode": {
    "name": "ipython",
    "version": 3
   },
   "file_extension": ".py",
   "mimetype": "text/x-python",
   "name": "python",
   "nbconvert_exporter": "python",
   "pygments_lexer": "ipython3",
   "version": "3.12.4"
  }
 },
 "nbformat": 4,
 "nbformat_minor": 5
}
