{
 "cells": [
  {
   "cell_type": "code",
   "execution_count": 3,
   "id": "4ce21840-a07c-434b-93bc-b992f59d831c",
   "metadata": {},
   "outputs": [
    {
     "name": "stdout",
     "output_type": "stream",
     "text": [
      "Точность логистической регрессии: 1.0\n",
      "Точность метода ближайших соседей: 1.0\n",
      "\n",
      "Матрица ошибок для логистической регрессии:\n",
      "[[10  0  0]\n",
      " [ 0  9  0]\n",
      " [ 0  0 11]]\n",
      "\n",
      "Отчет классификации для логистической регрессии:\n",
      "              precision    recall  f1-score   support\n",
      "\n",
      "           0       1.00      1.00      1.00        10\n",
      "           1       1.00      1.00      1.00         9\n",
      "           2       1.00      1.00      1.00        11\n",
      "\n",
      "    accuracy                           1.00        30\n",
      "   macro avg       1.00      1.00      1.00        30\n",
      "weighted avg       1.00      1.00      1.00        30\n",
      "\n",
      "\n",
      "Матрица ошибок для метода ближайших соседей:\n",
      "[[10  0  0]\n",
      " [ 0  9  0]\n",
      " [ 0  0 11]]\n",
      "\n",
      "Отчет классификации для метода ближайших соседей:\n",
      "              precision    recall  f1-score   support\n",
      "\n",
      "           0       1.00      1.00      1.00        10\n",
      "           1       1.00      1.00      1.00         9\n",
      "           2       1.00      1.00      1.00        11\n",
      "\n",
      "    accuracy                           1.00        30\n",
      "   macro avg       1.00      1.00      1.00        30\n",
      "weighted avg       1.00      1.00      1.00        30\n",
      "\n"
     ]
    }
   ],
   "source": [
    "import numpy as np\n",
    "from sklearn.datasets import load_iris\n",
    "from sklearn.model_selection import train_test_split\n",
    "from sklearn.linear_model import LogisticRegression\n",
    "from sklearn.neighbors import KNeighborsClassifier\n",
    "from sklearn.metrics import accuracy_score, confusion_matrix, classification_report\n",
    "\n",
    "\n",
    "data = load_iris()\n",
    "X = data.data  \n",
    "y = data.target \n",
    "\n",
    "\n",
    "X_train, X_test, y_train, y_test = train_test_split(X, y, test_size=0.2, random_state=42)\n",
    "\n",
    "\n",
    "log_reg = LogisticRegression(max_iter=200)  \n",
    "log_reg.fit(X_train, y_train) \n",
    "y_pred_log = log_reg.predict(X_test)  \n",
    "accuracy_log = accuracy_score(y_test, y_pred_log)  \n",
    "print(\"Точность логистической регрессии:\", accuracy_log)\n",
    "\n",
    "\n",
    "knn = KNeighborsClassifier(n_neighbors=3)  \n",
    "knn.fit(X_train, y_train)  \n",
    "y_pred_knn = knn.predict(X_test)  \n",
    "accuracy_knn = accuracy_score(y_test, y_pred_knn)  \n",
    "print(\"Точность метода ближайших соседей:\", accuracy_knn)\n",
    "\n",
    "\n",
    "print(\"\\nМатрица ошибок для логистической регрессии:\")\n",
    "print(confusion_matrix(y_test, y_pred_log))\n",
    "print(\"\\nОтчет классификации для логистической регрессии:\")\n",
    "print(classification_report(y_test, y_pred_log))\n",
    "\n",
    "\n",
    "print(\"\\nМатрица ошибок для метода ближайших соседей:\")\n",
    "print(confusion_matrix(y_test, y_pred_knn))\n",
    "print(\"\\nОтчет классификации для метода ближайших соседей:\")\n",
    "print(classification_report(y_test, y_pred_knn))\n"
   ]
  },
  {
   "cell_type": "code",
   "execution_count": null,
   "id": "d170b295-7b92-409d-aa4e-c5ffbc60edb2",
   "metadata": {},
   "outputs": [],
   "source": []
  }
 ],
 "metadata": {
  "kernelspec": {
   "display_name": "Python 3 (ipykernel)",
   "language": "python",
   "name": "python3"
  },
  "language_info": {
   "codemirror_mode": {
    "name": "ipython",
    "version": 3
   },
   "file_extension": ".py",
   "mimetype": "text/x-python",
   "name": "python",
   "nbconvert_exporter": "python",
   "pygments_lexer": "ipython3",
   "version": "3.12.4"
  }
 },
 "nbformat": 4,
 "nbformat_minor": 5
}
