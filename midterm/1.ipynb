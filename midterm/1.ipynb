{
 "cells": [
  {
   "cell_type": "code",
   "execution_count": 2,
   "id": "efb2dc2a-0146-4f70-a1c3-da7604850276",
   "metadata": {},
   "outputs": [],
   "source": [
    "import pandas as pd\n",
    "from sklearn.preprocessing import LabelEncoder\n",
    "from sklearn.model_selection import train_test_split\n",
    "from sklearn.preprocessing import StandardScaler\n",
    "\n",
    "# Load dataset\n",
    "data = pd.read_csv('gym_membership.csv')\n"
   ]
  },
  {
   "cell_type": "code",
   "execution_count": 6,
   "id": "11f16ad7-681e-4b4c-9e27-01307df75efe",
   "metadata": {},
   "outputs": [],
   "source": [
    "# Handling missing values\n",
    "data['fav_group_lesson'] = data['fav_group_lesson'].fillna('No preference')\n",
    "data['fav_drink'] = data['fav_drink'].fillna('No drink')\n",
    "data['name_personal_trainer'] = data['name_personal_trainer'].fillna('No trainer')\n",
    "\n",
    "# Encoding categorical variables\n",
    "label_encoders = {}\n",
    "for column in ['gender', 'abonoment_type', 'attend_group_lesson', 'drink_abo', 'personal_training', 'uses_sauna']:\n",
    "    label_encoders[column] = LabelEncoder()\n",
    "    data[column] = label_encoders[column].fit_transform(data[column])\n",
    "\n",
    "# Splitting features and target\n",
    "X = data.drop(['id', 'birthday', 'personal_training'], axis=1)\n",
    "y = data['personal_training']\n",
    "\n",
    "# Train-test split\n",
    "X_train, X_test, y_train, y_test = train_test_split(X, y, test_size=0.3, random_state=42)\n"
   ]
  },
  {
   "cell_type": "code",
   "execution_count": null,
   "id": "86fb8534-fc65-4cfc-92ce-cd0c5a76324d",
   "metadata": {},
   "outputs": [],
   "source": []
  }
 ],
 "metadata": {
  "kernelspec": {
   "display_name": "Python 3 (ipykernel)",
   "language": "python",
   "name": "python3"
  },
  "language_info": {
   "codemirror_mode": {
    "name": "ipython",
    "version": 3
   },
   "file_extension": ".py",
   "mimetype": "text/x-python",
   "name": "python",
   "nbconvert_exporter": "python",
   "pygments_lexer": "ipython3",
   "version": "3.12.4"
  }
 },
 "nbformat": 4,
 "nbformat_minor": 5
}
